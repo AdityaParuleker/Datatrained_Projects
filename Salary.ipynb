{
 "cells": [
  {
   "cell_type": "code",
   "execution_count": 101,
   "id": "db661536",
   "metadata": {},
   "outputs": [],
   "source": [
    "import pandas as pd\n",
    "import numpy as np"
   ]
  },
  {
   "cell_type": "code",
   "execution_count": 66,
   "id": "bf8962ab",
   "metadata": {},
   "outputs": [],
   "source": [
    "df = pd.read_csv('C:\\\\Users\\\\RedPr\\\\Downloads\\\\Salaries.csv')"
   ]
  },
  {
   "cell_type": "code",
   "execution_count": 3,
   "id": "ddc13ca5",
   "metadata": {},
   "outputs": [
    {
     "data": {
      "text/plain": [
       "Index(['rank', 'discipline', 'yrs.since.phd', 'yrs.service', 'sex', 'salary'], dtype='object')"
      ]
     },
     "execution_count": 3,
     "metadata": {},
     "output_type": "execute_result"
    }
   ],
   "source": [
    "df.columns"
   ]
  },
  {
   "cell_type": "code",
   "execution_count": 4,
   "id": "5e92a83d",
   "metadata": {},
   "outputs": [
    {
     "data": {
      "text/html": [
       "<div>\n",
       "<style scoped>\n",
       "    .dataframe tbody tr th:only-of-type {\n",
       "        vertical-align: middle;\n",
       "    }\n",
       "\n",
       "    .dataframe tbody tr th {\n",
       "        vertical-align: top;\n",
       "    }\n",
       "\n",
       "    .dataframe thead th {\n",
       "        text-align: right;\n",
       "    }\n",
       "</style>\n",
       "<table border=\"1\" class=\"dataframe\">\n",
       "  <thead>\n",
       "    <tr style=\"text-align: right;\">\n",
       "      <th></th>\n",
       "      <th>rank</th>\n",
       "      <th>discipline</th>\n",
       "      <th>yrs.since.phd</th>\n",
       "      <th>yrs.service</th>\n",
       "      <th>sex</th>\n",
       "      <th>salary</th>\n",
       "    </tr>\n",
       "  </thead>\n",
       "  <tbody>\n",
       "    <tr>\n",
       "      <th>0</th>\n",
       "      <td>Prof</td>\n",
       "      <td>B</td>\n",
       "      <td>19</td>\n",
       "      <td>18</td>\n",
       "      <td>Male</td>\n",
       "      <td>139750</td>\n",
       "    </tr>\n",
       "    <tr>\n",
       "      <th>1</th>\n",
       "      <td>Prof</td>\n",
       "      <td>B</td>\n",
       "      <td>20</td>\n",
       "      <td>16</td>\n",
       "      <td>Male</td>\n",
       "      <td>173200</td>\n",
       "    </tr>\n",
       "    <tr>\n",
       "      <th>2</th>\n",
       "      <td>AsstProf</td>\n",
       "      <td>B</td>\n",
       "      <td>4</td>\n",
       "      <td>3</td>\n",
       "      <td>Male</td>\n",
       "      <td>79750</td>\n",
       "    </tr>\n",
       "    <tr>\n",
       "      <th>3</th>\n",
       "      <td>Prof</td>\n",
       "      <td>B</td>\n",
       "      <td>45</td>\n",
       "      <td>39</td>\n",
       "      <td>Male</td>\n",
       "      <td>115000</td>\n",
       "    </tr>\n",
       "    <tr>\n",
       "      <th>4</th>\n",
       "      <td>Prof</td>\n",
       "      <td>B</td>\n",
       "      <td>40</td>\n",
       "      <td>41</td>\n",
       "      <td>Male</td>\n",
       "      <td>141500</td>\n",
       "    </tr>\n",
       "  </tbody>\n",
       "</table>\n",
       "</div>"
      ],
      "text/plain": [
       "       rank discipline  yrs.since.phd  yrs.service   sex  salary\n",
       "0      Prof          B             19           18  Male  139750\n",
       "1      Prof          B             20           16  Male  173200\n",
       "2  AsstProf          B              4            3  Male   79750\n",
       "3      Prof          B             45           39  Male  115000\n",
       "4      Prof          B             40           41  Male  141500"
      ]
     },
     "execution_count": 4,
     "metadata": {},
     "output_type": "execute_result"
    }
   ],
   "source": [
    "df.head()"
   ]
  },
  {
   "cell_type": "code",
   "execution_count": 5,
   "id": "03cb4cca",
   "metadata": {},
   "outputs": [
    {
     "data": {
      "text/plain": [
       "(397, 6)"
      ]
     },
     "execution_count": 5,
     "metadata": {},
     "output_type": "execute_result"
    }
   ],
   "source": [
    "df.shape"
   ]
  },
  {
   "cell_type": "code",
   "execution_count": 6,
   "id": "865f05ab",
   "metadata": {},
   "outputs": [
    {
     "data": {
      "text/plain": [
       "rank             object\n",
       "discipline       object\n",
       "yrs.since.phd     int64\n",
       "yrs.service       int64\n",
       "sex              object\n",
       "salary            int64\n",
       "dtype: object"
      ]
     },
     "execution_count": 6,
     "metadata": {},
     "output_type": "execute_result"
    }
   ],
   "source": [
    "df.dtypes"
   ]
  },
  {
   "cell_type": "markdown",
   "id": "a31242bc",
   "metadata": {},
   "source": [
    "# Checking Null Values\n"
   ]
  },
  {
   "cell_type": "code",
   "execution_count": 7,
   "id": "1ed0e17f",
   "metadata": {},
   "outputs": [
    {
     "data": {
      "text/plain": [
       "rank             0\n",
       "discipline       0\n",
       "yrs.since.phd    0\n",
       "yrs.service      0\n",
       "sex              0\n",
       "salary           0\n",
       "dtype: int64"
      ]
     },
     "execution_count": 7,
     "metadata": {},
     "output_type": "execute_result"
    }
   ],
   "source": [
    "df.isnull().sum()"
   ]
  },
  {
   "cell_type": "markdown",
   "id": "bb314b21",
   "metadata": {},
   "source": [
    "Since there are no null values, we proceed.\n"
   ]
  },
  {
   "cell_type": "markdown",
   "id": "89b348a3",
   "metadata": {},
   "source": [
    "# Visualization"
   ]
  },
  {
   "cell_type": "code",
   "execution_count": 8,
   "id": "20cf32a2",
   "metadata": {},
   "outputs": [],
   "source": [
    "df_n=df[['rank', 'discipline', 'yrs.since.phd', 'yrs.service', 'sex', 'salary']].copy()"
   ]
  },
  {
   "cell_type": "code",
   "execution_count": 9,
   "id": "e76be58f",
   "metadata": {},
   "outputs": [
    {
     "data": {
      "text/plain": [
       "Index(['rank', 'discipline', 'yrs.since.phd', 'yrs.service', 'sex', 'salary'], dtype='object')"
      ]
     },
     "execution_count": 9,
     "metadata": {},
     "output_type": "execute_result"
    }
   ],
   "source": [
    "df_n.columns"
   ]
  },
  {
   "cell_type": "code",
   "execution_count": 10,
   "id": "d3fc0a78",
   "metadata": {},
   "outputs": [
    {
     "name": "stdout",
     "output_type": "stream",
     "text": [
      "Prof         266\n",
      "AsstProf      67\n",
      "AssocProf     64\n",
      "Name: rank, dtype: int64\n"
     ]
    },
    {
     "data": {
      "image/png": "[encoded data removed]",
      "text/plain": [
       "<Figure size 360x360 with 1 Axes>"
      ]
     },
     "metadata": {
      "needs_background": "light"
     },
     "output_type": "display_data"
    }
   ],
   "source": [
    "import seaborn as sns\n",
    "\n",
    "a=sns.catplot(x='rank',data=df_n, kind=\"count\")\n",
    "print(df_n[\"rank\"].value_counts())"
   ]
  },
  {
   "cell_type": "code",
   "execution_count": 11,
   "id": "acd80cc4",
   "metadata": {},
   "outputs": [
    {
     "name": "stdout",
     "output_type": "stream",
     "text": [
      "B    216\n",
      "A    181\n",
      "Name: discipline, dtype: int64\n"
     ]
    },
    {
     "data": {
      "image/png": "[encoded data removed]",
      "text/plain": [
       "<Figure size 360x360 with 1 Axes>"
      ]
     },
     "metadata": {
      "needs_background": "light"
     },
     "output_type": "display_data"
    }
   ],
   "source": [
    "b=sns.catplot(x='discipline',data=df_n, kind=\"count\")\n",
    "print(df_n[\"discipline\"].value_counts())"
   ]
  },
  {
   "cell_type": "code",
   "execution_count": 12,
   "id": "44a90552",
   "metadata": {},
   "outputs": [
    {
     "data": {
      "image/png": "[encoded data removed]",
      "text/plain": [
       "<Figure size 360x360 with 1 Axes>"
      ]
     },
     "metadata": {
      "needs_background": "light"
     },
     "output_type": "display_data"
    }
   ],
   "source": [
    "c=sns.catplot(x=\"rank\",y='yrs.since.phd',data=df_n)"
   ]
  },
  {
   "cell_type": "code",
   "execution_count": 13,
   "id": "9c011b87",
   "metadata": {},
   "outputs": [
    {
     "data": {
      "image/png": "[encoded data removed]",
      "text/plain": [
       "<Figure size 360x360 with 1 Axes>"
      ]
     },
     "metadata": {
      "needs_background": "light"
     },
     "output_type": "display_data"
    }
   ],
   "source": [
    "b=sns.catplot(x='rank',y='yrs.service',data=df_n)"
   ]
  },
  {
   "cell_type": "code",
   "execution_count": 14,
   "id": "790b0010",
   "metadata": {},
   "outputs": [
    {
     "name": "stdout",
     "output_type": "stream",
     "text": [
      "Male      358\n",
      "Female     39\n",
      "Name: sex, dtype: int64\n"
     ]
    },
    {
     "data": {
      "image/png": "[encoded data removed]",
      "text/plain": [
       "<Figure size 360x360 with 1 Axes>"
      ]
     },
     "metadata": {
      "needs_background": "light"
     },
     "output_type": "display_data"
    }
   ],
   "source": [
    "b=sns.catplot(x='sex',data=df_n, kind=\"count\")\n",
    "print(df_n[\"sex\"].value_counts())"
   ]
  },
  {
   "cell_type": "code",
   "execution_count": 15,
   "id": "4556ab63",
   "metadata": {},
   "outputs": [
    {
     "name": "stderr",
     "output_type": "stream",
     "text": [
      "C:\\Users\\RedPr\\anaconda3\\lib\\site-packages\\seaborn\\distributions.py:2619: FutureWarning: `distplot` is a deprecated function and will be removed in a future version. Please adapt your code to use either `displot` (a figure-level function with similar flexibility) or `histplot` (an axes-level function for histograms).\n",
      "  warnings.warn(msg, FutureWarning)\n"
     ]
    },
    {
     "data": {
      "image/png": "[encoded data removed]",
      "text/plain": [
       "<Figure size 432x288 with 1 Axes>"
      ]
     },
     "metadata": {
      "needs_background": "light"
     },
     "output_type": "display_data"
    }
   ],
   "source": [
    "c=sns.distplot(df_n[\"salary\"],kde=True)"
   ]
  },
  {
   "cell_type": "code",
   "execution_count": 16,
   "id": "f85c9933",
   "metadata": {},
   "outputs": [
    {
     "data": {
      "text/html": [
       "<div>\n",
       "<style scoped>\n",
       "    .dataframe tbody tr th:only-of-type {\n",
       "        vertical-align: middle;\n",
       "    }\n",
       "\n",
       "    .dataframe tbody tr th {\n",
       "        vertical-align: top;\n",
       "    }\n",
       "\n",
       "    .dataframe thead th {\n",
       "        text-align: right;\n",
       "    }\n",
       "</style>\n",
       "<table border=\"1\" class=\"dataframe\">\n",
       "  <thead>\n",
       "    <tr style=\"text-align: right;\">\n",
       "      <th></th>\n",
       "      <th>yrs.since.phd</th>\n",
       "      <th>yrs.service</th>\n",
       "      <th>salary</th>\n",
       "    </tr>\n",
       "  </thead>\n",
       "  <tbody>\n",
       "    <tr>\n",
       "      <th>count</th>\n",
       "      <td>397.000000</td>\n",
       "      <td>397.000000</td>\n",
       "      <td>397.000000</td>\n",
       "    </tr>\n",
       "    <tr>\n",
       "      <th>mean</th>\n",
       "      <td>22.314861</td>\n",
       "      <td>17.614610</td>\n",
       "      <td>113706.458438</td>\n",
       "    </tr>\n",
       "    <tr>\n",
       "      <th>std</th>\n",
       "      <td>12.887003</td>\n",
       "      <td>13.006024</td>\n",
       "      <td>30289.038695</td>\n",
       "    </tr>\n",
       "    <tr>\n",
       "      <th>min</th>\n",
       "      <td>1.000000</td>\n",
       "      <td>0.000000</td>\n",
       "      <td>57800.000000</td>\n",
       "    </tr>\n",
       "    <tr>\n",
       "      <th>25%</th>\n",
       "      <td>12.000000</td>\n",
       "      <td>7.000000</td>\n",
       "      <td>91000.000000</td>\n",
       "    </tr>\n",
       "    <tr>\n",
       "      <th>50%</th>\n",
       "      <td>21.000000</td>\n",
       "      <td>16.000000</td>\n",
       "      <td>107300.000000</td>\n",
       "    </tr>\n",
       "    <tr>\n",
       "      <th>75%</th>\n",
       "      <td>32.000000</td>\n",
       "      <td>27.000000</td>\n",
       "      <td>134185.000000</td>\n",
       "    </tr>\n",
       "    <tr>\n",
       "      <th>max</th>\n",
       "      <td>56.000000</td>\n",
       "      <td>60.000000</td>\n",
       "      <td>231545.000000</td>\n",
       "    </tr>\n",
       "  </tbody>\n",
       "</table>\n",
       "</div>"
      ],
      "text/plain": [
       "       yrs.since.phd  yrs.service         salary\n",
       "count     397.000000   397.000000     397.000000\n",
       "mean       22.314861    17.614610  113706.458438\n",
       "std        12.887003    13.006024   30289.038695\n",
       "min         1.000000     0.000000   57800.000000\n",
       "25%        12.000000     7.000000   91000.000000\n",
       "50%        21.000000    16.000000  107300.000000\n",
       "75%        32.000000    27.000000  134185.000000\n",
       "max        56.000000    60.000000  231545.000000"
      ]
     },
     "execution_count": 16,
     "metadata": {},
     "output_type": "execute_result"
    }
   ],
   "source": [
    "df.describe()"
   ]
  },
  {
   "cell_type": "code",
   "execution_count": 17,
   "id": "78b9bdb4",
   "metadata": {},
   "outputs": [
    {
     "data": {
      "text/plain": [
       "<AxesSubplot:>"
      ]
     },
     "execution_count": 17,
     "metadata": {},
     "output_type": "execute_result"
    },
    {
     "data": {
      "image/png": "[encoded data removed]",
      "text/plain": [
       "<Figure size 1152x504 with 2 Axes>"
      ]
     },
     "metadata": {
      "needs_background": "light"
     },
     "output_type": "display_data"
    }
   ],
   "source": [
    "import seaborn as sns\n",
    "import matplotlib.pyplot as plt\n",
    "plt.figure(figsize=(16,7))\n",
    "sns.heatmap(df.describe()[1:],annot=True,linewidths=0.1,linecolor=\"White\",fmt=\".2f\")"
   ]
  },
  {
   "cell_type": "markdown",
   "id": "2d54ea0a",
   "metadata": {},
   "source": [
    "# Encoding"
   ]
  },
  {
   "cell_type": "code",
   "execution_count": 67,
   "id": "7a027653",
   "metadata": {},
   "outputs": [],
   "source": [
    "from sklearn.preprocessing import OrdinalEncoder\n",
    "enc=OrdinalEncoder()\n"
   ]
  },
  {
   "cell_type": "code",
   "execution_count": 68,
   "id": "04bb2a2f",
   "metadata": {},
   "outputs": [
    {
     "name": "stdout",
     "output_type": "stream",
     "text": [
      "0      2.0\n",
      "1      2.0\n",
      "2      1.0\n",
      "3      2.0\n",
      "4      2.0\n",
      "      ... \n",
      "392    2.0\n",
      "393    2.0\n",
      "394    2.0\n",
      "395    2.0\n",
      "396    1.0\n",
      "Name: rank, Length: 397, dtype: float64\n"
     ]
    }
   ],
   "source": [
    "df[\"rank\"]=enc.fit_transform(df[\"rank\"].values.reshape(-1,1))\n",
    "print (df[\"rank\"])"
   ]
  },
  {
   "cell_type": "code",
   "execution_count": 69,
   "id": "0670d5c4",
   "metadata": {},
   "outputs": [
    {
     "name": "stdout",
     "output_type": "stream",
     "text": [
      "0      1.0\n",
      "1      1.0\n",
      "2      1.0\n",
      "3      1.0\n",
      "4      1.0\n",
      "      ... \n",
      "392    0.0\n",
      "393    0.0\n",
      "394    0.0\n",
      "395    0.0\n",
      "396    0.0\n",
      "Name: discipline, Length: 397, dtype: float64\n"
     ]
    }
   ],
   "source": [
    "df[\"discipline\"]=enc.fit_transform(df[\"discipline\"].values.reshape(-1,1))\n",
    "print (df[\"discipline\"])"
   ]
  },
  {
   "cell_type": "code",
   "execution_count": 70,
   "id": "0f786d39",
   "metadata": {},
   "outputs": [
    {
     "name": "stdout",
     "output_type": "stream",
     "text": [
      "0      1.0\n",
      "1      1.0\n",
      "2      1.0\n",
      "3      1.0\n",
      "4      1.0\n",
      "      ... \n",
      "392    1.0\n",
      "393    1.0\n",
      "394    1.0\n",
      "395    1.0\n",
      "396    1.0\n",
      "Name: sex, Length: 397, dtype: float64\n"
     ]
    }
   ],
   "source": [
    "df[\"sex\"]=enc.fit_transform(df[\"sex\"].values.reshape(-1,1))\n",
    "print (df[\"sex\"])"
   ]
  },
  {
   "cell_type": "markdown",
   "id": "b7365436",
   "metadata": {},
   "source": [
    "# Correlation"
   ]
  },
  {
   "cell_type": "code",
   "execution_count": 22,
   "id": "172112c2",
   "metadata": {},
   "outputs": [
    {
     "data": {
      "text/html": [
       "<div>\n",
       "<style scoped>\n",
       "    .dataframe tbody tr th:only-of-type {\n",
       "        vertical-align: middle;\n",
       "    }\n",
       "\n",
       "    .dataframe tbody tr th {\n",
       "        vertical-align: top;\n",
       "    }\n",
       "\n",
       "    .dataframe thead th {\n",
       "        text-align: right;\n",
       "    }\n",
       "</style>\n",
       "<table border=\"1\" class=\"dataframe\">\n",
       "  <thead>\n",
       "    <tr style=\"text-align: right;\">\n",
       "      <th></th>\n",
       "      <th>rank</th>\n",
       "      <th>discipline</th>\n",
       "      <th>yrs.since.phd</th>\n",
       "      <th>yrs.service</th>\n",
       "      <th>sex</th>\n",
       "      <th>salary</th>\n",
       "    </tr>\n",
       "  </thead>\n",
       "  <tbody>\n",
       "    <tr>\n",
       "      <th>rank</th>\n",
       "      <td>1.000000</td>\n",
       "      <td>-0.086266</td>\n",
       "      <td>0.525500</td>\n",
       "      <td>0.447499</td>\n",
       "      <td>0.132492</td>\n",
       "      <td>0.522207</td>\n",
       "    </tr>\n",
       "    <tr>\n",
       "      <th>discipline</th>\n",
       "      <td>-0.086266</td>\n",
       "      <td>1.000000</td>\n",
       "      <td>-0.218087</td>\n",
       "      <td>-0.164599</td>\n",
       "      <td>0.003724</td>\n",
       "      <td>0.156084</td>\n",
       "    </tr>\n",
       "    <tr>\n",
       "      <th>yrs.since.phd</th>\n",
       "      <td>0.525500</td>\n",
       "      <td>-0.218087</td>\n",
       "      <td>1.000000</td>\n",
       "      <td>0.909649</td>\n",
       "      <td>0.148788</td>\n",
       "      <td>0.419231</td>\n",
       "    </tr>\n",
       "    <tr>\n",
       "      <th>yrs.service</th>\n",
       "      <td>0.447499</td>\n",
       "      <td>-0.164599</td>\n",
       "      <td>0.909649</td>\n",
       "      <td>1.000000</td>\n",
       "      <td>0.153740</td>\n",
       "      <td>0.334745</td>\n",
       "    </tr>\n",
       "    <tr>\n",
       "      <th>sex</th>\n",
       "      <td>0.132492</td>\n",
       "      <td>0.003724</td>\n",
       "      <td>0.148788</td>\n",
       "      <td>0.153740</td>\n",
       "      <td>1.000000</td>\n",
       "      <td>0.138610</td>\n",
       "    </tr>\n",
       "    <tr>\n",
       "      <th>salary</th>\n",
       "      <td>0.522207</td>\n",
       "      <td>0.156084</td>\n",
       "      <td>0.419231</td>\n",
       "      <td>0.334745</td>\n",
       "      <td>0.138610</td>\n",
       "      <td>1.000000</td>\n",
       "    </tr>\n",
       "  </tbody>\n",
       "</table>\n",
       "</div>"
      ],
      "text/plain": [
       "                   rank  discipline  yrs.since.phd  yrs.service       sex  \\\n",
       "rank           1.000000   -0.086266       0.525500     0.447499  0.132492   \n",
       "discipline    -0.086266    1.000000      -0.218087    -0.164599  0.003724   \n",
       "yrs.since.phd  0.525500   -0.218087       1.000000     0.909649  0.148788   \n",
       "yrs.service    0.447499   -0.164599       0.909649     1.000000  0.153740   \n",
       "sex            0.132492    0.003724       0.148788     0.153740  1.000000   \n",
       "salary         0.522207    0.156084       0.419231     0.334745  0.138610   \n",
       "\n",
       "                 salary  \n",
       "rank           0.522207  \n",
       "discipline     0.156084  \n",
       "yrs.since.phd  0.419231  \n",
       "yrs.service    0.334745  \n",
       "sex            0.138610  \n",
       "salary         1.000000  "
      ]
     },
     "execution_count": 22,
     "metadata": {},
     "output_type": "execute_result"
    }
   ],
   "source": [
    "df.corr()"
   ]
  },
  {
   "cell_type": "code",
   "execution_count": 23,
   "id": "b0aa7c1c",
   "metadata": {},
   "outputs": [
    {
     "data": {
      "text/plain": [
       "sex              0.138610\n",
       "discipline       0.156084\n",
       "yrs.service      0.334745\n",
       "yrs.since.phd    0.419231\n",
       "rank             0.522207\n",
       "salary           1.000000\n",
       "Name: salary, dtype: float64"
      ]
     },
     "execution_count": 23,
     "metadata": {},
     "output_type": "execute_result"
    }
   ],
   "source": [
    "df.corr()[\"salary\"].sort_values()"
   ]
  },
  {
   "cell_type": "code",
   "execution_count": 24,
   "id": "f8fdcdad",
   "metadata": {},
   "outputs": [
    {
     "data": {
      "text/plain": [
       "<AxesSubplot:>"
      ]
     },
     "execution_count": 24,
     "metadata": {},
     "output_type": "execute_result"
    },
    {
     "data": {
      "image/png": "[encoded data removed]",
      "text/plain": [
       "<Figure size 864x504 with 2 Axes>"
      ]
     },
     "metadata": {
      "needs_background": "light"
     },
     "output_type": "display_data"
    }
   ],
   "source": [
    "import matplotlib.pyplot as plt\n",
    "import seaborn as sns\n",
    "plt.figure(figsize=(12,7))\n",
    "sns.heatmap(df.corr(),annot=True,linewidths=0.1,linecolor=\"White\",fmt=\".2f\")"
   ]
  },
  {
   "cell_type": "code",
   "execution_count": 25,
   "id": "5ccc4b28",
   "metadata": {},
   "outputs": [
    {
     "data": {
      "image/png": "[encoded data removed]",
      "text/plain": [
       "<Figure size 1152x504 with 1 Axes>"
      ]
     },
     "metadata": {
      "needs_background": "light"
     },
     "output_type": "display_data"
    }
   ],
   "source": [
    "plt.figure(figsize=(16,7))\n",
    "df.corr()['salary'].sort_values(ascending=False).drop(['salary']).plot(kind='bar',color='c')\n",
    "plt.xlabel('Features',fontsize=14)\n",
    "plt.ylabel('Target',fontsize=14)\n",
    "plt.title('Correlation',fontsize=18)\n",
    "plt.show()\n"
   ]
  },
  {
   "cell_type": "markdown",
   "id": "fea1868b",
   "metadata": {},
   "source": [
    "# Skewness"
   ]
  },
  {
   "cell_type": "code",
   "execution_count": 71,
   "id": "b152fafe",
   "metadata": {},
   "outputs": [
    {
     "data": {
      "text/plain": [
       "sex             -2.709958\n",
       "rank            -1.151164\n",
       "discipline      -0.177684\n",
       "yrs.since.phd    0.300880\n",
       "yrs.service      0.650569\n",
       "salary           0.714568\n",
       "dtype: float64"
      ]
     },
     "execution_count": 71,
     "metadata": {},
     "output_type": "execute_result"
    }
   ],
   "source": [
    "df.skew().sort_values()"
   ]
  },
  {
   "cell_type": "markdown",
   "id": "a2081f7f",
   "metadata": {},
   "source": [
    "Keeping +/- 0.5 as range of skewness, column that fall under these are\n",
    "- sex\n",
    "- rank\n",
    "- yrs.service\n",
    "- salary\n",
    "\n",
    "Since sex and rank is categorical feature and salary is target variable, we cannot perform the skewness.\n",
    "\n",
    "We perform skewness only on yrs.service"
   ]
  },
  {
   "cell_type": "markdown",
   "id": "e06caf9d",
   "metadata": {},
   "source": [
    "# Separating Feature and Target "
   ]
  },
  {
   "cell_type": "code",
   "execution_count": 72,
   "id": "a63f9504",
   "metadata": {},
   "outputs": [
    {
     "data": {
      "text/html": [
       "<div>\n",
       "<style scoped>\n",
       "    .dataframe tbody tr th:only-of-type {\n",
       "        vertical-align: middle;\n",
       "    }\n",
       "\n",
       "    .dataframe tbody tr th {\n",
       "        vertical-align: top;\n",
       "    }\n",
       "\n",
       "    .dataframe thead th {\n",
       "        text-align: right;\n",
       "    }\n",
       "</style>\n",
       "<table border=\"1\" class=\"dataframe\">\n",
       "  <thead>\n",
       "    <tr style=\"text-align: right;\">\n",
       "      <th></th>\n",
       "      <th>rank</th>\n",
       "      <th>discipline</th>\n",
       "      <th>yrs.since.phd</th>\n",
       "      <th>yrs.service</th>\n",
       "      <th>sex</th>\n",
       "    </tr>\n",
       "  </thead>\n",
       "  <tbody>\n",
       "    <tr>\n",
       "      <th>0</th>\n",
       "      <td>2.0</td>\n",
       "      <td>1.0</td>\n",
       "      <td>19</td>\n",
       "      <td>18</td>\n",
       "      <td>1.0</td>\n",
       "    </tr>\n",
       "    <tr>\n",
       "      <th>1</th>\n",
       "      <td>2.0</td>\n",
       "      <td>1.0</td>\n",
       "      <td>20</td>\n",
       "      <td>16</td>\n",
       "      <td>1.0</td>\n",
       "    </tr>\n",
       "    <tr>\n",
       "      <th>2</th>\n",
       "      <td>1.0</td>\n",
       "      <td>1.0</td>\n",
       "      <td>4</td>\n",
       "      <td>3</td>\n",
       "      <td>1.0</td>\n",
       "    </tr>\n",
       "    <tr>\n",
       "      <th>3</th>\n",
       "      <td>2.0</td>\n",
       "      <td>1.0</td>\n",
       "      <td>45</td>\n",
       "      <td>39</td>\n",
       "      <td>1.0</td>\n",
       "    </tr>\n",
       "    <tr>\n",
       "      <th>4</th>\n",
       "      <td>2.0</td>\n",
       "      <td>1.0</td>\n",
       "      <td>40</td>\n",
       "      <td>41</td>\n",
       "      <td>1.0</td>\n",
       "    </tr>\n",
       "  </tbody>\n",
       "</table>\n",
       "</div>"
      ],
      "text/plain": [
       "   rank  discipline  yrs.since.phd  yrs.service  sex\n",
       "0   2.0         1.0             19           18  1.0\n",
       "1   2.0         1.0             20           16  1.0\n",
       "2   1.0         1.0              4            3  1.0\n",
       "3   2.0         1.0             45           39  1.0\n",
       "4   2.0         1.0             40           41  1.0"
      ]
     },
     "execution_count": 72,
     "metadata": {},
     "output_type": "execute_result"
    }
   ],
   "source": [
    "x=df.drop(\"salary\",axis=1)\n",
    "x.head()"
   ]
  },
  {
   "cell_type": "code",
   "execution_count": 73,
   "id": "a929163b",
   "metadata": {},
   "outputs": [
    {
     "data": {
      "text/plain": [
       "0    139750\n",
       "1    173200\n",
       "2     79750\n",
       "3    115000\n",
       "4    141500\n",
       "Name: salary, dtype: int64"
      ]
     },
     "execution_count": 73,
     "metadata": {},
     "output_type": "execute_result"
    }
   ],
   "source": [
    "y=df[\"salary\"]\n",
    "y.head()"
   ]
  },
  {
   "cell_type": "markdown",
   "id": "797740e2",
   "metadata": {},
   "source": [
    "# Removing Skewnwess"
   ]
  },
  {
   "cell_type": "code",
   "execution_count": 74,
   "id": "37f62086",
   "metadata": {},
   "outputs": [],
   "source": [
    "from sklearn.preprocessing import power_transform"
   ]
  },
  {
   "cell_type": "code",
   "execution_count": 99,
   "id": "f9038ef9",
   "metadata": {},
   "outputs": [
    {
     "data": {
      "text/plain": [
       "array([[ 0.69005113,  0.91540317, -0.12729454,  0.21534448,  0.3300584 ],\n",
       "       [ 0.69005113,  0.91540317, -0.04917821,  0.06703275,  0.3300584 ],\n",
       "       [-1.09153554,  0.91540317, -1.62812069, -1.26587219,  0.3300584 ],\n",
       "       ...,\n",
       "       [ 0.69005113, -1.09241483,  1.39552477,  0.68314877,  0.3300584 ],\n",
       "       [ 0.69005113, -1.09241483,  0.32017198, -0.0101666 ,  0.3300584 ],\n",
       "       [-1.09153554, -1.09241483, -1.13497737, -1.11445781,  0.3300584 ]])"
      ]
     },
     "execution_count": 99,
     "metadata": {},
     "output_type": "execute_result"
    }
   ],
   "source": [
    "x=power_transform(x)\n",
    "x"
   ]
  },
  {
   "cell_type": "code",
   "execution_count": 125,
   "id": "a9c3665e",
   "metadata": {},
   "outputs": [
    {
     "data": {
      "text/html": [
       "<div>\n",
       "<style scoped>\n",
       "    .dataframe tbody tr th:only-of-type {\n",
       "        vertical-align: middle;\n",
       "    }\n",
       "\n",
       "    .dataframe tbody tr th {\n",
       "        vertical-align: top;\n",
       "    }\n",
       "\n",
       "    .dataframe thead th {\n",
       "        text-align: right;\n",
       "    }\n",
       "</style>\n",
       "<table border=\"1\" class=\"dataframe\">\n",
       "  <thead>\n",
       "    <tr style=\"text-align: right;\">\n",
       "      <th></th>\n",
       "      <th>0</th>\n",
       "      <th>1</th>\n",
       "      <th>2</th>\n",
       "      <th>3</th>\n",
       "      <th>4</th>\n",
       "    </tr>\n",
       "  </thead>\n",
       "  <tbody>\n",
       "    <tr>\n",
       "      <th>0</th>\n",
       "      <td>0.690051</td>\n",
       "      <td>0.915403</td>\n",
       "      <td>-0.127295</td>\n",
       "      <td>0.215344</td>\n",
       "      <td>0.330058</td>\n",
       "    </tr>\n",
       "    <tr>\n",
       "      <th>1</th>\n",
       "      <td>0.690051</td>\n",
       "      <td>0.915403</td>\n",
       "      <td>-0.049178</td>\n",
       "      <td>0.067033</td>\n",
       "      <td>0.330058</td>\n",
       "    </tr>\n",
       "    <tr>\n",
       "      <th>2</th>\n",
       "      <td>-1.091536</td>\n",
       "      <td>0.915403</td>\n",
       "      <td>-1.628121</td>\n",
       "      <td>-1.265872</td>\n",
       "      <td>0.330058</td>\n",
       "    </tr>\n",
       "    <tr>\n",
       "      <th>3</th>\n",
       "      <td>0.690051</td>\n",
       "      <td>0.915403</td>\n",
       "      <td>1.565162</td>\n",
       "      <td>1.459847</td>\n",
       "      <td>0.330058</td>\n",
       "    </tr>\n",
       "    <tr>\n",
       "      <th>4</th>\n",
       "      <td>0.690051</td>\n",
       "      <td>0.915403</td>\n",
       "      <td>1.279680</td>\n",
       "      <td>1.558761</td>\n",
       "      <td>0.330058</td>\n",
       "    </tr>\n",
       "  </tbody>\n",
       "</table>\n",
       "</div>"
      ],
      "text/plain": [
       "          0         1         2         3         4\n",
       "0  0.690051  0.915403 -0.127295  0.215344  0.330058\n",
       "1  0.690051  0.915403 -0.049178  0.067033  0.330058\n",
       "2 -1.091536  0.915403 -1.628121 -1.265872  0.330058\n",
       "3  0.690051  0.915403  1.565162  1.459847  0.330058\n",
       "4  0.690051  0.915403  1.279680  1.558761  0.330058"
      ]
     },
     "execution_count": 125,
     "metadata": {},
     "output_type": "execute_result"
    }
   ],
   "source": [
    "x=pd.DataFrame(x)\n",
    "x.head()"
   ]
  },
  {
   "cell_type": "markdown",
   "id": "b4338077",
   "metadata": {},
   "source": [
    "# OUTLIERS"
   ]
  },
  {
   "cell_type": "code",
   "execution_count": 126,
   "id": "c8062c1e",
   "metadata": {},
   "outputs": [
    {
     "data": {
      "image/png": "[encoded data removed]",
      "text/plain": [
       "<Figure size 1440x576 with 1 Axes>"
      ]
     },
     "metadata": {
      "needs_background": "light"
     },
     "output_type": "display_data"
    }
   ],
   "source": [
    "import matplotlib.pyplot as plt\n",
    "x.iloc[:,0:3].boxplot(figsize=(20,8))\n",
    "plt.subplots_adjust(bottom=0.25)\n",
    "plt.show()"
   ]
  },
  {
   "cell_type": "code",
   "execution_count": 127,
   "id": "b016bcd8",
   "metadata": {},
   "outputs": [
    {
     "data": {
      "text/plain": [
       "False"
      ]
     },
     "execution_count": 127,
     "metadata": {},
     "output_type": "execute_result"
    }
   ],
   "source": [
    "from scipy.stats import zscore\n",
    "(np.abs(zscore(x))<3).all().all()"
   ]
  },
  {
   "cell_type": "code",
   "execution_count": 128,
   "id": "c6833fb2",
   "metadata": {},
   "outputs": [
    {
     "data": {
      "text/plain": [
       "(array([  9,  19,  24,  34,  35,  47,  48,  52,  63,  68,  84,  90, 103,\n",
       "        114, 119, 123, 127, 132, 133, 148, 153, 179, 186, 218, 230, 231,\n",
       "        233, 237, 245, 253, 254, 274, 316, 323, 332, 334, 341, 358, 361],\n",
       "       dtype=int64),\n",
       " array([4, 4, 4, 4, 4, 4, 4, 4, 4, 4, 4, 4, 4, 4, 4, 4, 4, 4, 4, 4, 4, 4,\n",
       "        4, 4, 4, 4, 4, 4, 4, 4, 4, 4, 4, 4, 4, 4, 4, 4, 4], dtype=int64))"
      ]
     },
     "execution_count": 128,
     "metadata": {},
     "output_type": "execute_result"
    }
   ],
   "source": [
    "z=np.abs(zscore(x))\n",
    "threshold=3\n",
    "np.where(z>3)"
   ]
  },
  {
   "cell_type": "markdown",
   "id": "77bcaeeb",
   "metadata": {},
   "source": [
    "The Outlier are present in the feature categorical column (4) sex, so we cannot remove them."
   ]
  },
  {
   "cell_type": "code",
   "execution_count": 152,
   "id": "ae4388f0",
   "metadata": {},
   "outputs": [
    {
     "data": {
      "text/html": [
       "<div>\n",
       "<style scoped>\n",
       "    .dataframe tbody tr th:only-of-type {\n",
       "        vertical-align: middle;\n",
       "    }\n",
       "\n",
       "    .dataframe tbody tr th {\n",
       "        vertical-align: top;\n",
       "    }\n",
       "\n",
       "    .dataframe thead th {\n",
       "        text-align: right;\n",
       "    }\n",
       "</style>\n",
       "<table border=\"1\" class=\"dataframe\">\n",
       "  <thead>\n",
       "    <tr style=\"text-align: right;\">\n",
       "      <th></th>\n",
       "      <th>rank</th>\n",
       "      <th>discipline</th>\n",
       "      <th>yrs.since.phd</th>\n",
       "      <th>yrs.service</th>\n",
       "      <th>sex</th>\n",
       "      <th>salary</th>\n",
       "    </tr>\n",
       "  </thead>\n",
       "  <tbody>\n",
       "    <tr>\n",
       "      <th>0</th>\n",
       "      <td>2.0</td>\n",
       "      <td>1.0</td>\n",
       "      <td>19</td>\n",
       "      <td>18</td>\n",
       "      <td>1.0</td>\n",
       "      <td>139750</td>\n",
       "    </tr>\n",
       "    <tr>\n",
       "      <th>1</th>\n",
       "      <td>2.0</td>\n",
       "      <td>1.0</td>\n",
       "      <td>20</td>\n",
       "      <td>16</td>\n",
       "      <td>1.0</td>\n",
       "      <td>173200</td>\n",
       "    </tr>\n",
       "    <tr>\n",
       "      <th>2</th>\n",
       "      <td>1.0</td>\n",
       "      <td>1.0</td>\n",
       "      <td>4</td>\n",
       "      <td>3</td>\n",
       "      <td>1.0</td>\n",
       "      <td>79750</td>\n",
       "    </tr>\n",
       "    <tr>\n",
       "      <th>3</th>\n",
       "      <td>2.0</td>\n",
       "      <td>1.0</td>\n",
       "      <td>45</td>\n",
       "      <td>39</td>\n",
       "      <td>1.0</td>\n",
       "      <td>115000</td>\n",
       "    </tr>\n",
       "    <tr>\n",
       "      <th>4</th>\n",
       "      <td>2.0</td>\n",
       "      <td>1.0</td>\n",
       "      <td>40</td>\n",
       "      <td>41</td>\n",
       "      <td>1.0</td>\n",
       "      <td>141500</td>\n",
       "    </tr>\n",
       "  </tbody>\n",
       "</table>\n",
       "</div>"
      ],
      "text/plain": [
       "   rank  discipline  yrs.since.phd  yrs.service  sex  salary\n",
       "0   2.0         1.0             19           18  1.0  139750\n",
       "1   2.0         1.0             20           16  1.0  173200\n",
       "2   1.0         1.0              4            3  1.0   79750\n",
       "3   2.0         1.0             45           39  1.0  115000\n",
       "4   2.0         1.0             40           41  1.0  141500"
      ]
     },
     "execution_count": 152,
     "metadata": {},
     "output_type": "execute_result"
    }
   ],
   "source": [
    "df.head()"
   ]
  },
  {
   "cell_type": "markdown",
   "id": "f6e75669",
   "metadata": {},
   "source": [
    "# Scaling"
   ]
  },
  {
   "cell_type": "code",
   "execution_count": 132,
   "id": "648c9d87",
   "metadata": {},
   "outputs": [],
   "source": [
    "from sklearn.preprocessing import MinMaxScaler\n",
    "mns=MinMaxScaler()\n",
    "from sklearn.linear_model import LinearRegression\n",
    "lr=LinearRegression()\n",
    "from sklearn.metrics import r2_score,accuracy_score\n",
    "from sklearn.model_selection import train_test_split"
   ]
  },
  {
   "cell_type": "code",
   "execution_count": 133,
   "id": "2e425639",
   "metadata": {},
   "outputs": [],
   "source": [
    "import warnings\n",
    "warnings.filterwarnings('ignore')"
   ]
  },
  {
   "cell_type": "code",
   "execution_count": 134,
   "id": "f0e3204d",
   "metadata": {},
   "outputs": [
    {
     "name": "stdout",
     "output_type": "stream",
     "text": [
      "At random state 0, training accuracy: 0.40349138663881534\n",
      "At random state 0, testing accuracy: 0.455245641339059\n",
      "\n",
      "\n",
      "At random state 1, training accuracy: 0.4018333696541271\n",
      "At random state 1, testing accuracy: 0.4674350870555999\n",
      "\n",
      "\n",
      "At random state 2, training accuracy: 0.41938252774542717\n",
      "At random state 2, testing accuracy: 0.39593312740315423\n",
      "\n",
      "\n",
      "At random state 3, training accuracy: 0.43169651967857003\n",
      "At random state 3, testing accuracy: 0.35513448859381613\n",
      "\n",
      "\n",
      "At random state 4, training accuracy: 0.4285741114021422\n",
      "At random state 4, testing accuracy: 0.346528328794648\n",
      "\n",
      "\n",
      "At random state 5, training accuracy: 0.4351303600965115\n",
      "At random state 5, testing accuracy: 0.3302669872141736\n",
      "\n",
      "\n",
      "At random state 6, training accuracy: 0.405522774611501\n",
      "At random state 6, testing accuracy: 0.4576040462727775\n",
      "\n",
      "\n",
      "At random state 7, training accuracy: 0.39900487918474303\n",
      "At random state 7, testing accuracy: 0.48971430225185464\n",
      "\n",
      "\n",
      "At random state 8, training accuracy: 0.41444456926351125\n",
      "At random state 8, testing accuracy: 0.3933526321717441\n",
      "\n",
      "\n",
      "At random state 9, training accuracy: 0.4138042680847952\n",
      "At random state 9, testing accuracy: 0.42190085611887074\n",
      "\n",
      "\n",
      "At random state 10, training accuracy: 0.4189190600875039\n",
      "At random state 10, testing accuracy: 0.3943155690331952\n",
      "\n",
      "\n",
      "At random state 11, training accuracy: 0.4344287482443814\n",
      "At random state 11, testing accuracy: 0.30214360857123745\n",
      "\n",
      "\n",
      "At random state 12, training accuracy: 0.4177453791862168\n",
      "At random state 12, testing accuracy: 0.3975943633519785\n",
      "\n",
      "\n",
      "At random state 13, training accuracy: 0.4174877963517374\n",
      "At random state 13, testing accuracy: 0.3724369715923982\n",
      "\n",
      "\n",
      "At random state 14, training accuracy: 0.4607464183165396\n",
      "At random state 14, testing accuracy: 0.18919578143693783\n",
      "\n",
      "\n",
      "At random state 15, training accuracy: 0.41707926842524623\n",
      "At random state 15, testing accuracy: 0.3868463529610152\n",
      "\n",
      "\n",
      "At random state 16, training accuracy: 0.4290420450251461\n",
      "At random state 16, testing accuracy: 0.3460392972175853\n",
      "\n",
      "\n",
      "At random state 17, training accuracy: 0.428862690516153\n",
      "At random state 17, testing accuracy: 0.31967392405252226\n",
      "\n",
      "\n",
      "At random state 18, training accuracy: 0.40779709589900637\n",
      "At random state 18, testing accuracy: 0.4233031006514143\n",
      "\n",
      "\n",
      "At random state 19, training accuracy: 0.4022513250358175\n",
      "At random state 19, testing accuracy: 0.46432213097270114\n",
      "\n",
      "\n",
      "At random state 20, training accuracy: 0.40074015035321353\n",
      "At random state 20, testing accuracy: 0.46230175815334107\n",
      "\n",
      "\n",
      "At random state 21, training accuracy: 0.43518589287358866\n",
      "At random state 21, testing accuracy: 0.3329738742486028\n",
      "\n",
      "\n",
      "At random state 22, training accuracy: 0.42443539284031884\n",
      "At random state 22, testing accuracy: 0.3682014585395026\n",
      "\n",
      "\n",
      "At random state 23, training accuracy: 0.4347234381519641\n",
      "At random state 23, testing accuracy: 0.33832536674549796\n",
      "\n",
      "\n",
      "At random state 24, training accuracy: 0.4449153777902827\n",
      "At random state 24, testing accuracy: 0.27659437734688586\n",
      "\n",
      "\n",
      "At random state 25, training accuracy: 0.4270638359793022\n",
      "At random state 25, testing accuracy: 0.3496390739218598\n",
      "\n",
      "\n",
      "At random state 26, training accuracy: 0.41470686974591964\n",
      "At random state 26, testing accuracy: 0.41330401458615473\n",
      "\n",
      "\n",
      "At random state 27, training accuracy: 0.4286429837474951\n",
      "At random state 27, testing accuracy: 0.3634626717585675\n",
      "\n",
      "\n",
      "At random state 28, training accuracy: 0.4481519128411705\n",
      "At random state 28, testing accuracy: 0.27465589639299925\n",
      "\n",
      "\n",
      "At random state 29, training accuracy: 0.4421200266225749\n",
      "At random state 29, testing accuracy: 0.27021077787969905\n",
      "\n",
      "\n",
      "At random state 30, training accuracy: 0.4122448696476151\n",
      "At random state 30, testing accuracy: 0.41627876862523505\n",
      "\n",
      "\n",
      "At random state 31, training accuracy: 0.4261428775537932\n",
      "At random state 31, testing accuracy: 0.35229145027242004\n",
      "\n",
      "\n",
      "At random state 32, training accuracy: 0.4096557854436418\n",
      "At random state 32, testing accuracy: 0.420768053405818\n",
      "\n",
      "\n",
      "At random state 33, training accuracy: 0.4177732124022079\n",
      "At random state 33, testing accuracy: 0.3898999602511872\n",
      "\n",
      "\n",
      "At random state 34, training accuracy: 0.40607496126274867\n",
      "At random state 34, testing accuracy: 0.45144527264838574\n",
      "\n",
      "\n",
      "At random state 35, training accuracy: 0.4261237992961717\n",
      "At random state 35, testing accuracy: 0.37730910959686714\n",
      "\n",
      "\n",
      "At random state 36, training accuracy: 0.4306301386990238\n",
      "At random state 36, testing accuracy: 0.29209868515353954\n",
      "\n",
      "\n",
      "At random state 37, training accuracy: 0.3945244575381477\n",
      "At random state 37, testing accuracy: 0.44725304497861607\n",
      "\n",
      "\n",
      "At random state 38, training accuracy: 0.42802454544434765\n",
      "At random state 38, testing accuracy: 0.33643808739476366\n",
      "\n",
      "\n",
      "At random state 39, training accuracy: 0.41028603570668487\n",
      "At random state 39, testing accuracy: 0.4280002898437947\n",
      "\n",
      "\n",
      "At random state 40, training accuracy: 0.4077791288539617\n",
      "At random state 40, testing accuracy: 0.4345590937579358\n",
      "\n",
      "\n",
      "At random state 41, training accuracy: 0.40131065862077153\n",
      "At random state 41, testing accuracy: 0.4595698422957195\n",
      "\n",
      "\n",
      "At random state 42, training accuracy: 0.4633327994159273\n",
      "At random state 42, testing accuracy: 0.15749196132714216\n",
      "\n",
      "\n",
      "At random state 43, training accuracy: 0.44656164663607956\n",
      "At random state 43, testing accuracy: 0.3031454202888684\n",
      "\n",
      "\n",
      "At random state 44, training accuracy: 0.4167931312162968\n",
      "At random state 44, testing accuracy: 0.4039035971459696\n",
      "\n",
      "\n",
      "At random state 45, training accuracy: 0.4572757480533248\n",
      "At random state 45, testing accuracy: 0.2684009505961028\n",
      "\n",
      "\n",
      "At random state 46, training accuracy: 0.39571004526892395\n",
      "At random state 46, testing accuracy: 0.4107808624920982\n",
      "\n",
      "\n",
      "At random state 47, training accuracy: 0.4152383855740016\n",
      "At random state 47, testing accuracy: 0.39741129564693656\n",
      "\n",
      "\n",
      "At random state 48, training accuracy: 0.40790907813332944\n",
      "At random state 48, testing accuracy: 0.43886916004481336\n",
      "\n",
      "\n",
      "At random state 49, training accuracy: 0.42857336531474577\n",
      "At random state 49, testing accuracy: 0.3421159820084091\n",
      "\n",
      "\n",
      "At random state 50, training accuracy: 0.42310791222334165\n",
      "At random state 50, testing accuracy: 0.3816155866341382\n",
      "\n",
      "\n",
      "At random state 51, training accuracy: 0.41759868353297924\n",
      "At random state 51, testing accuracy: 0.3914250467163424\n",
      "\n",
      "\n",
      "At random state 52, training accuracy: 0.4118912374028417\n",
      "At random state 52, testing accuracy: 0.41465364907705904\n",
      "\n",
      "\n",
      "At random state 53, training accuracy: 0.40080420908518233\n",
      "At random state 53, testing accuracy: 0.467444771985951\n",
      "\n",
      "\n",
      "At random state 54, training accuracy: 0.42361600685090295\n",
      "At random state 54, testing accuracy: 0.3690201983596315\n",
      "\n",
      "\n",
      "At random state 55, training accuracy: 0.427767776714432\n",
      "At random state 55, testing accuracy: 0.35795400338129335\n",
      "\n",
      "\n",
      "At random state 56, training accuracy: 0.4304303140694846\n",
      "At random state 56, testing accuracy: 0.31643831827610236\n",
      "\n",
      "\n",
      "At random state 57, training accuracy: 0.4086148935829139\n",
      "At random state 57, testing accuracy: 0.44106155902476596\n",
      "\n",
      "\n",
      "At random state 58, training accuracy: 0.43596210074302355\n",
      "At random state 58, testing accuracy: 0.3213729693710735\n",
      "\n",
      "\n",
      "At random state 59, training accuracy: 0.4087694355245738\n",
      "At random state 59, testing accuracy: 0.42258076628493746\n",
      "\n",
      "\n",
      "At random state 60, training accuracy: 0.40412620625025797\n",
      "At random state 60, testing accuracy: 0.48525273237700406\n",
      "\n",
      "\n",
      "At random state 61, training accuracy: 0.3982894157519854\n",
      "At random state 61, testing accuracy: 0.48889828640951805\n",
      "\n",
      "\n",
      "At random state 62, training accuracy: 0.4160290324245868\n",
      "At random state 62, testing accuracy: 0.35594748099666873\n",
      "\n",
      "\n",
      "At random state 63, training accuracy: 0.4018500809102662\n",
      "At random state 63, testing accuracy: 0.45679060614608236\n",
      "\n",
      "\n",
      "At random state 64, training accuracy: 0.3913756536441422\n",
      "At random state 64, testing accuracy: 0.49213768133223845\n",
      "\n",
      "\n",
      "At random state 65, training accuracy: 0.4446187572904634\n",
      "At random state 65, testing accuracy: 0.29821466222390314\n",
      "\n",
      "\n",
      "At random state 66, training accuracy: 0.4102820533973909\n",
      "At random state 66, testing accuracy: 0.42742792855450595\n",
      "\n",
      "\n",
      "At random state 67, training accuracy: 0.4019179823636335\n",
      "At random state 67, testing accuracy: 0.44984805490825974\n",
      "\n",
      "\n",
      "At random state 68, training accuracy: 0.45629001371373\n",
      "At random state 68, testing accuracy: 0.23657373317318553\n",
      "\n",
      "\n",
      "At random state 69, training accuracy: 0.3973249798737777\n",
      "At random state 69, testing accuracy: 0.4687070125184686\n",
      "\n",
      "\n",
      "At random state 70, training accuracy: 0.44738235680908733\n",
      "At random state 70, testing accuracy: 0.1877398224660073\n",
      "\n",
      "\n",
      "At random state 71, training accuracy: 0.4236909509729331\n",
      "At random state 71, testing accuracy: 0.3692164377853634\n",
      "\n",
      "\n",
      "At random state 72, training accuracy: 0.4201552125470629\n",
      "At random state 72, testing accuracy: 0.36638798417414076\n",
      "\n",
      "\n",
      "At random state 73, training accuracy: 0.4144141206759586\n",
      "At random state 73, testing accuracy: 0.4101380475062123\n",
      "\n",
      "\n",
      "At random state 74, training accuracy: 0.4068829293599975\n",
      "At random state 74, testing accuracy: 0.45423456283229346\n",
      "\n",
      "\n",
      "At random state 75, training accuracy: 0.4122187158838603\n",
      "At random state 75, testing accuracy: 0.42121297526617363\n",
      "\n",
      "\n",
      "At random state 76, training accuracy: 0.4328949859386084\n",
      "At random state 76, testing accuracy: 0.28738192724686695\n",
      "\n",
      "\n",
      "At random state 77, training accuracy: 0.4081502348913789\n",
      "At random state 77, testing accuracy: 0.41509215141771094\n",
      "\n",
      "\n",
      "At random state 78, training accuracy: 0.43510310123578166\n",
      "At random state 78, testing accuracy: 0.3295385861920328\n",
      "\n",
      "\n",
      "At random state 79, training accuracy: 0.385885299990425\n",
      "At random state 79, testing accuracy: 0.5393516625925794\n",
      "\n",
      "\n",
      "At random state 80, training accuracy: 0.391417531040136\n",
      "At random state 80, testing accuracy: 0.553542819415982\n",
      "\n",
      "\n",
      "At random state 81, training accuracy: 0.3987751474020692\n",
      "At random state 81, testing accuracy: 0.45841227539929696\n",
      "\n",
      "\n",
      "At random state 82, training accuracy: 0.4167350982975466\n",
      "At random state 82, testing accuracy: 0.3984439249920796\n",
      "\n",
      "\n",
      "At random state 83, training accuracy: 0.4150481427409166\n",
      "At random state 83, testing accuracy: 0.4011241828315838\n",
      "\n",
      "\n",
      "At random state 84, training accuracy: 0.41732244115688266\n",
      "At random state 84, testing accuracy: 0.3897734745915784\n",
      "\n",
      "\n",
      "At random state 85, training accuracy: 0.41750610332556404\n",
      "At random state 85, testing accuracy: 0.4005340413645926\n",
      "\n",
      "\n",
      "At random state 86, training accuracy: 0.4156416496126122\n",
      "At random state 86, testing accuracy: 0.4069580861869184\n",
      "\n",
      "\n",
      "At random state 87, training accuracy: 0.4248603309582425\n",
      "At random state 87, testing accuracy: 0.30213577581629036\n",
      "\n",
      "\n",
      "At random state 88, training accuracy: 0.40001866810159237\n",
      "At random state 88, testing accuracy: 0.4826025572650785\n",
      "\n",
      "\n",
      "At random state 89, training accuracy: 0.4207157677163883\n",
      "At random state 89, testing accuracy: 0.3808784428034787\n",
      "\n",
      "\n",
      "At random state 90, training accuracy: 0.39798645928874876\n",
      "At random state 90, testing accuracy: 0.4656717034638649\n",
      "\n",
      "\n",
      "At random state 91, training accuracy: 0.41398931771329506\n",
      "At random state 91, testing accuracy: 0.4061237296000365\n",
      "\n",
      "\n",
      "At random state 92, training accuracy: 0.41480482341481684\n",
      "At random state 92, testing accuracy: 0.41098160108586357\n",
      "\n",
      "\n",
      "At random state 93, training accuracy: 0.4468004674465488\n",
      "At random state 93, testing accuracy: 0.27514480354941884\n",
      "\n",
      "\n",
      "At random state 94, training accuracy: 0.43366811159426444\n",
      "At random state 94, testing accuracy: 0.3287291375816529\n",
      "\n",
      "\n",
      "At random state 95, training accuracy: 0.4310091172425635\n",
      "At random state 95, testing accuracy: 0.3383908291424246\n",
      "\n",
      "\n",
      "At random state 96, training accuracy: 0.3966476159987855\n",
      "At random state 96, testing accuracy: 0.4716667794687759\n",
      "\n",
      "\n",
      "At random state 97, training accuracy: 0.4031257712424047\n",
      "At random state 97, testing accuracy: 0.4766728411532277\n",
      "\n",
      "\n",
      "At random state 98, training accuracy: 0.3950452517207026\n",
      "At random state 98, testing accuracy: 0.46950912297400926\n",
      "\n",
      "\n",
      "At random state 99, training accuracy: 0.4054015358555536\n",
      "At random state 99, testing accuracy: 0.4611800213466759\n",
      "\n",
      "\n"
     ]
    }
   ],
   "source": [
    "for i in range(0,100):\n",
    "    x_train,x_test,y_train,y_test=train_test_split(x,y,test_size=0.2,random_state=i)\n",
    "    lr.fit(x_train,y_train)\n",
    "    pred_train=lr.predict(x_train)\n",
    "    pred_test=lr.predict(x_test)\n",
    "    print(f\"At random state {i}, training accuracy: {r2_score(y_train,pred_train)}\")\n",
    "    print(f\"At random state {i}, testing accuracy: {r2_score(y_test,pred_test)}\")\n",
    "    print(\"\\n\")"
   ]
  },
  {
   "cell_type": "code",
   "execution_count": 135,
   "id": "9f1abc83",
   "metadata": {},
   "outputs": [],
   "source": [
    "x_train,x_test,y_train,y_test=train_test_split(x,y,test_size=0.2,random_state=99)"
   ]
  },
  {
   "cell_type": "code",
   "execution_count": 136,
   "id": "2654cade",
   "metadata": {},
   "outputs": [],
   "source": [
    "lr.fit(x_train,y_train) \n",
    "pred_train=lr.predict(x_train)"
   ]
  },
  {
   "cell_type": "code",
   "execution_count": 137,
   "id": "cf6e5b7d",
   "metadata": {},
   "outputs": [
    {
     "name": "stdout",
     "output_type": "stream",
     "text": [
      "0.4611800213466759\n"
     ]
    }
   ],
   "source": [
    "print(r2_score(y_test,pred_test))"
   ]
  },
  {
   "cell_type": "markdown",
   "id": "79785640",
   "metadata": {},
   "source": [
    "# Cross Validations"
   ]
  },
  {
   "cell_type": "code",
   "execution_count": 138,
   "id": "49fac50b",
   "metadata": {},
   "outputs": [
    {
     "name": "stdout",
     "output_type": "stream",
     "text": [
      "At cv= 2 cv score is 0.3669826509468479 and accuracy for training is 0.4054015358555536 and testing is 0.4054015358555536\n",
      "\n",
      "\n",
      "At cv= 3 cv score is 0.36129201345411577 and accuracy for training is 0.4054015358555536 and testing is 0.4054015358555536\n",
      "\n",
      "\n",
      "At cv= 4 cv score is 0.3703039399659669 and accuracy for training is 0.4054015358555536 and testing is 0.4054015358555536\n",
      "\n",
      "\n",
      "At cv= 5 cv score is 0.3538036561778346 and accuracy for training is 0.4054015358555536 and testing is 0.4054015358555536\n",
      "\n",
      "\n",
      "At cv= 6 cv score is 0.37734759340899365 and accuracy for training is 0.4054015358555536 and testing is 0.4054015358555536\n",
      "\n",
      "\n",
      "At cv= 7 cv score is 0.3727833510644444 and accuracy for training is 0.4054015358555536 and testing is 0.4054015358555536\n",
      "\n",
      "\n",
      "At cv= 8 cv score is 0.3798515082084586 and accuracy for training is 0.4054015358555536 and testing is 0.4054015358555536\n",
      "\n",
      "\n",
      "At cv= 9 cv score is 0.3555350003274418 and accuracy for training is 0.4054015358555536 and testing is 0.4054015358555536\n",
      "\n",
      "\n"
     ]
    }
   ],
   "source": [
    "train_ac=r2_score(y_train,pred_train)\n",
    "test_ac=r2_score(y_test,pred_test)\n",
    "\n",
    "from sklearn.model_selection import cross_val_score\n",
    "for j in range(2,10):\n",
    "    cv_score=cross_val_score(lr,x,y,cv=j)\n",
    "    cv_mean=cv_score.mean()\n",
    "    print(f\"At cv= {j} cv score is {cv_mean} and accuracy for training is {train_ac} and testing is {train_ac}\")\n",
    "    print(\"\\n\")\n"
   ]
  },
  {
   "cell_type": "code",
   "execution_count": 139,
   "id": "c44be006",
   "metadata": {},
   "outputs": [
    {
     "data": {
      "image/png": "[encoded data removed]",
      "text/plain": [
       "<Figure size 576x432 with 1 Axes>"
      ]
     },
     "metadata": {
      "needs_background": "light"
     },
     "output_type": "display_data"
    }
   ],
   "source": [
    "import matplotlib.pyplot as plt\n",
    "plt.figure(figsize=(8,6))\n",
    "plt.scatter(x=y_test,y=pred_test,color='r')\n",
    "plt.plot(y_test,y_test,color='b')\n",
    "plt.xlabel(\"Actual Salary\")\n",
    "plt.ylabel(\"Predicted Salary\")\n",
    "plt.title(\"Linear Regression\")\n",
    "plt.show()"
   ]
  },
  {
   "cell_type": "markdown",
   "id": "ee71825b",
   "metadata": {},
   "source": [
    "# Regularization"
   ]
  },
  {
   "cell_type": "code",
   "execution_count": 140,
   "id": "391cccd9",
   "metadata": {},
   "outputs": [
    {
     "name": "stdout",
     "output_type": "stream",
     "text": [
      "{'alpha': 10, 'random_state': 0}\n"
     ]
    }
   ],
   "source": [
    "from sklearn.model_selection import GridSearchCV\n",
    "from sklearn.model_selection import cross_val_score\n",
    "from sklearn.linear_model import Lasso\n",
    "\n",
    "parameters={'alpha':[.0001,.001,.01,.1,1,10],'random_state': list(range(0,10))}\n",
    "ls=Lasso()\n",
    "clf=GridSearchCV(ls,parameters)\n",
    "clf.fit(x_train,y_train)\n",
    "print(clf.best_params_)"
   ]
  },
  {
   "cell_type": "code",
   "execution_count": 141,
   "id": "81ff4e4e",
   "metadata": {},
   "outputs": [
    {
     "data": {
      "text/plain": [
       "40.539847048520784"
      ]
     },
     "execution_count": 141,
     "metadata": {},
     "output_type": "execute_result"
    }
   ],
   "source": [
    "ls=Lasso(alpha=10,random_state=0)\n",
    "ls.fit(x_train,y_train)\n",
    "ls_score_train=ls.score(x_train,y_train)\n",
    "pred_ls=ls.predict(x_test)\n",
    "ls_score_train*100"
   ]
  },
  {
   "cell_type": "code",
   "execution_count": 142,
   "id": "07e14b30",
   "metadata": {},
   "outputs": [
    {
     "data": {
      "text/plain": [
       "46.13044088129096"
      ]
     },
     "execution_count": 142,
     "metadata": {},
     "output_type": "execute_result"
    }
   ],
   "source": [
    "lss=r2_score(y_test,pred_ls)\n",
    "lss*100"
   ]
  },
  {
   "cell_type": "code",
   "execution_count": 143,
   "id": "ccdb2fbd",
   "metadata": {},
   "outputs": [
    {
     "data": {
      "text/plain": [
       "35.4180824634637"
      ]
     },
     "execution_count": 143,
     "metadata": {},
     "output_type": "execute_result"
    }
   ],
   "source": [
    "cv_score=cross_val_score(ls,x,y,cv=5)\n",
    "cv_mean=cv_score.mean()\n",
    "cv_mean*100"
   ]
  },
  {
   "cell_type": "markdown",
   "id": "766328de",
   "metadata": {},
   "source": [
    "# Ensemble Technique"
   ]
  },
  {
   "cell_type": "code",
   "execution_count": 144,
   "id": "b7242cd3",
   "metadata": {},
   "outputs": [
    {
     "name": "stdout",
     "output_type": "stream",
     "text": [
      "{'criterion': 'mae', 'max_features': 'log2'}\n"
     ]
    }
   ],
   "source": [
    "from sklearn.model_selection import GridSearchCV\n",
    "from sklearn.ensemble import RandomForestRegressor\n",
    "\n",
    "parameter={'criterion':['mse','mae'],\n",
    "          'max_features' : [\"auto\",\"sqrt\",\"log2\"]}\n",
    "\n",
    "rf=RandomForestRegressor()\n",
    "clf=GridSearchCV(rf,parameter)\n",
    "clf.fit(x_train,y_train)\n",
    "\n",
    "print(clf.best_params_)"
   ]
  },
  {
   "cell_type": "code",
   "execution_count": 145,
   "id": "51947aba",
   "metadata": {},
   "outputs": [
    {
     "name": "stdout",
     "output_type": "stream",
     "text": [
      "Training r2 0.8301976129789906\n",
      "R2 Score: 55.16377965339754\n",
      "Cross Val Score: 29.323456568479845\n"
     ]
    }
   ],
   "source": [
    "rf=RandomForestRegressor(criterion='mae',max_features=\"log2\")\n",
    "rf.fit(x_train,y_train)\n",
    "train_r2=rf.score(x_train,y_train)\n",
    "pred_decision=rf.predict(x_test)\n",
    "print('Training r2',train_r2)\n",
    "\n",
    "rfs=r2_score(y_test,pred_decision)\n",
    "print('R2 Score:', rfs*100)\n",
    "\n",
    "rfscore=cross_val_score(rf,x,y,cv=5)\n",
    "rfc=rfscore.mean()\n",
    "print('Cross Val Score:',rfc*100)\n"
   ]
  },
  {
   "cell_type": "markdown",
   "id": "4d9919ed",
   "metadata": {},
   "source": [
    "# Saving Model"
   ]
  },
  {
   "cell_type": "code",
   "execution_count": 146,
   "id": "ce556f05",
   "metadata": {},
   "outputs": [],
   "source": [
    "import pickle\n",
    "filename='sal.pk1'\n",
    "pickle.dump(rf,open(filename,'wb'))"
   ]
  },
  {
   "cell_type": "markdown",
   "id": "1fd69617",
   "metadata": {},
   "source": [
    "# Conclusion"
   ]
  },
  {
   "cell_type": "code",
   "execution_count": 147,
   "id": "3f822549",
   "metadata": {},
   "outputs": [
    {
     "name": "stdout",
     "output_type": "stream",
     "text": [
      "55.16377965339754\n"
     ]
    }
   ],
   "source": [
    "loaded_model=pickle.load(open('sal.pk1','rb'))\n",
    "result=loaded_model.score(x_test,y_test)\n",
    "print(result*100)"
   ]
  },
  {
   "cell_type": "code",
   "execution_count": 148,
   "id": "027f0b61",
   "metadata": {},
   "outputs": [
    {
     "data": {
      "text/html": [
       "<div>\n",
       "<style scoped>\n",
       "    .dataframe tbody tr th:only-of-type {\n",
       "        vertical-align: middle;\n",
       "    }\n",
       "\n",
       "    .dataframe tbody tr th {\n",
       "        vertical-align: top;\n",
       "    }\n",
       "\n",
       "    .dataframe thead th {\n",
       "        text-align: right;\n",
       "    }\n",
       "</style>\n",
       "<table border=\"1\" class=\"dataframe\">\n",
       "  <thead>\n",
       "    <tr style=\"text-align: right;\">\n",
       "      <th></th>\n",
       "      <th>0</th>\n",
       "      <th>1</th>\n",
       "      <th>2</th>\n",
       "      <th>3</th>\n",
       "      <th>4</th>\n",
       "      <th>5</th>\n",
       "      <th>6</th>\n",
       "      <th>7</th>\n",
       "      <th>8</th>\n",
       "      <th>9</th>\n",
       "      <th>...</th>\n",
       "      <th>70</th>\n",
       "      <th>71</th>\n",
       "      <th>72</th>\n",
       "      <th>73</th>\n",
       "      <th>74</th>\n",
       "      <th>75</th>\n",
       "      <th>76</th>\n",
       "      <th>77</th>\n",
       "      <th>78</th>\n",
       "      <th>79</th>\n",
       "    </tr>\n",
       "  </thead>\n",
       "  <tbody>\n",
       "    <tr>\n",
       "      <th>Predicted</th>\n",
       "      <td>97507.47</td>\n",
       "      <td>122078.205</td>\n",
       "      <td>113341.115</td>\n",
       "      <td>133257.035</td>\n",
       "      <td>87272.235</td>\n",
       "      <td>140311.125</td>\n",
       "      <td>137937.12</td>\n",
       "      <td>129905.1</td>\n",
       "      <td>122219.77</td>\n",
       "      <td>136578.395</td>\n",
       "      <td>...</td>\n",
       "      <td>111653.655</td>\n",
       "      <td>113646.845</td>\n",
       "      <td>130270.78</td>\n",
       "      <td>118248.175</td>\n",
       "      <td>101258.55</td>\n",
       "      <td>118167.11</td>\n",
       "      <td>102103.76</td>\n",
       "      <td>81177.79</td>\n",
       "      <td>136248.465</td>\n",
       "      <td>124606.075</td>\n",
       "    </tr>\n",
       "    <tr>\n",
       "      <th>Original</th>\n",
       "      <td>97507.47</td>\n",
       "      <td>122078.205</td>\n",
       "      <td>113341.115</td>\n",
       "      <td>133257.035</td>\n",
       "      <td>87272.235</td>\n",
       "      <td>140311.125</td>\n",
       "      <td>137937.12</td>\n",
       "      <td>129905.1</td>\n",
       "      <td>122219.77</td>\n",
       "      <td>136578.395</td>\n",
       "      <td>...</td>\n",
       "      <td>111653.655</td>\n",
       "      <td>113646.845</td>\n",
       "      <td>130270.78</td>\n",
       "      <td>118248.175</td>\n",
       "      <td>101258.55</td>\n",
       "      <td>118167.11</td>\n",
       "      <td>102103.76</td>\n",
       "      <td>81177.79</td>\n",
       "      <td>136248.465</td>\n",
       "      <td>124606.075</td>\n",
       "    </tr>\n",
       "  </tbody>\n",
       "</table>\n",
       "<p>2 rows × 80 columns</p>\n",
       "</div>"
      ],
      "text/plain": [
       "                 0           1           2           3          4   \\\n",
       "Predicted  97507.47  122078.205  113341.115  133257.035  87272.235   \n",
       "Original   97507.47  122078.205  113341.115  133257.035  87272.235   \n",
       "\n",
       "                   5          6         7          8           9   ...  \\\n",
       "Predicted  140311.125  137937.12  129905.1  122219.77  136578.395  ...   \n",
       "Original   140311.125  137937.12  129905.1  122219.77  136578.395  ...   \n",
       "\n",
       "                   70          71         72          73         74  \\\n",
       "Predicted  111653.655  113646.845  130270.78  118248.175  101258.55   \n",
       "Original   111653.655  113646.845  130270.78  118248.175  101258.55   \n",
       "\n",
       "                  75         76        77          78          79  \n",
       "Predicted  118167.11  102103.76  81177.79  136248.465  124606.075  \n",
       "Original   118167.11  102103.76  81177.79  136248.465  124606.075  \n",
       "\n",
       "[2 rows x 80 columns]"
      ]
     },
     "execution_count": 148,
     "metadata": {},
     "output_type": "execute_result"
    }
   ],
   "source": [
    "conc=pd.DataFrame([loaded_model.predict(x_test)[:],pred_decision[:]],index=[\"Predicted\",\"Original\"])\n",
    "conc"
   ]
  },
  {
   "cell_type": "code",
   "execution_count": null,
   "id": "6d828848",
   "metadata": {},
   "outputs": [],
   "source": []
  }
 ],
 "metadata": {
  "kernelspec": {
   "display_name": "Python 3 (ipykernel)",
   "language": "python",
   "name": "python3"
  },
  "language_info": {
   "codemirror_mode": {
    "name": "ipython",
    "version": 3
   },
   "file_extension": ".py",
   "mimetype": "text/x-python",
   "name": "python",
   "nbconvert_exporter": "python",
   "pygments_lexer": "ipython3",
   "version": "3.9.7"
  }
 },
 "nbformat": 4,
 "nbformat_minor": 5
}
